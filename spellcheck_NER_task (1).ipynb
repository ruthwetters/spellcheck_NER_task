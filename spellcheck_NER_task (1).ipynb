{
 "cells": [
  {
   "cell_type": "markdown",
   "id": "fd12eba5",
   "metadata": {},
   "source": [
    "Answers to the recruitment test as of 04/09/2021"
   ]
  },
  {
   "cell_type": "markdown",
   "id": "5266ef75",
   "metadata": {},
   "source": [
    "1) NARRATIVE 1: \"Prep and attend weeklu call with M Barrett and LC re. Apple due dili. Send project management spre adsheet to Lee Caldwell, and liaise with APple re next board meting on 12/12/2022. listen audio recording from last last meeting w/ MB.\" "
   ]
  },
  {
   "cell_type": "markdown",
   "id": "4806e9b9",
   "metadata": {},
   "source": [
    "Errors:  \n",
    "Typo: weekly spelt as weeklu (character substitution)  \n",
    "Punctuation error: unnecessary full stop after re  \n",
    "Contraction: diligence shortened to dili.  \n",
    "Punctuation error: spreadsheet spelt as spre adsheet (not classified as typo as space is different to a character)  \n",
    "Case error: Apple spelt as APple  \n",
    "Typo: meeting spelt as meting (missed character)  \n",
    "Grammatical error: 'listen' should be followed by 'to'\n",
    "Repeated word: last last (unless this means meeting before last?)"
   ]
  },
  {
   "cell_type": "markdown",
   "id": "6f538685",
   "metadata": {},
   "source": [
    "NARRATIVE 2: \"Sorting out final amends agreed with Dave, sending Dave, convo w/ A Howell re project B, advuce given to M&S re deal prep to meet deadline on 13 Oct 2020.\" "
   ]
  },
  {
   "cell_type": "markdown",
   "id": "b7360a32",
   "metadata": {},
   "source": [
    "Errors:  \n",
    "Punctuation error: unnecessary comma after \"sending Dave\"  \n",
    "Typo: advice spelt as advuce (character substitution)  \n",
    "Potential date formatting error: discrepancy between 12/12/2022 and 13 Oct 2020."
   ]
  },
  {
   "cell_type": "markdown",
   "id": "3f586cc2",
   "metadata": {},
   "source": [
    "Solutions:  \n",
    "Typos can be solved with NLP using out-of-box method (there are many)\n",
    "Punctuation error could be solved using out-of-box or own method. Note that some NLP methods strip out punctuation, so you would need to use a method which can handle it. \n",
    "Case error could be solved with own function (see below)  \n",
    "Grammatical error could be solved with a POS tagger  \n",
    "Repeated word could be solved with n-grams?  \n",
    "Date formatting error could be solved pretty easily with dateparser or similar."
   ]
  },
  {
   "cell_type": "markdown",
   "id": "4db80b21",
   "metadata": {},
   "source": [
    "3) Named entity recognition:  \n",
    "Narrative 1:  \n",
    "M Barrett/MB  \n",
    "Apple  \n",
    "Lee Caldwell/LC  \n",
    "Narrative 2:  \n",
    "Dave  \n",
    "A Howell  \n",
    "Project B  \n",
    "M&S"
   ]
  },
  {
   "cell_type": "markdown",
   "id": "c3b0c8d4",
   "metadata": {},
   "source": [
    "4) Simplest approach to a POS Tagger:\n",
    "POS taggers can be categorised into two groups: rule-based and stochastic. In a rule-based tagger, each word can have only one tag assigned to it. If a word can possibly have multiple tags, they must be manually assigned or specific rules created. A stochastic approach uses probability to calculate the likelihood of a word being a certain POS.  \n",
    "The quickest way would be to use an established rule-based tagger, such as Brill's tagger.  \n",
    "In English, can identify named entities because first letter is capitalised.  "
   ]
  },
  {
   "cell_type": "markdown",
   "id": "3519ef51",
   "metadata": {},
   "source": [
    "5) Identifying whether Apple belongs to the fruit or the company:  \n",
    "1) Case: if it starts with upper case and is not the first word in a sentence, then it's probably the company  \n",
    "2) n-grams or cooccuring words: if it occurs with other fruits/food words, then may be the fruit"
   ]
  },
  {
   "cell_type": "markdown",
   "id": "1d166cb5",
   "metadata": {},
   "source": [
    "6) Code  \n",
    "Using one of the following programming languages: Julia, Python, R (we have a preference for python notebooks for readability, but again feel free to use your favorite programing language); and any library or your choice (even custom functions), build a procedure to spellcheck some words of the narratives (or the whole narrative). Note: there are many (and none will be perfect) solutions to this problem! You may present more than one strategy if you would like to do so. Also, you do not have to sort it for the whole narrative. You can solve it for specific sections and use pseudo code if necessary"
   ]
  },
  {
   "cell_type": "markdown",
   "id": "09b36d52",
   "metadata": {
    "direction": "rtl"
   },
   "source": [
    "I first tried a couple of different out-of-box packages: firstly autocorrect.Speller, which caught the typos but nothing else, did not manage 'spreadsheet', and fumbled with acronyms: corrected LC to Lt and MB to B."
   ]
  },
  {
   "cell_type": "code",
   "execution_count": null,
   "id": "5c139977",
   "metadata": {},
   "outputs": [],
   "source": [
    "#from autocorrect import Speller\n",
    "#spell = Speller(lang='en')\n",
    "#print(spell(\"Prep and attend weeklu call with M Barrett and LC re. Apple due dili. Send project management spre adsheet to Lee Caldwell, and liaise with APple re next board meting on 12/12/2022. listen audio recording from last last meeting w/ MB.\" ))"
   ]
  },
  {
   "cell_type": "markdown",
   "id": "1a5078a1",
   "metadata": {},
   "source": [
    "I did also try the SpellChecker package but it was less accurate (missed 'meting', corrected 'M' to 'i'), however you can add new words easily which is useful. However, I found the GingerIt package performed best."
   ]
  },
  {
   "cell_type": "code",
   "execution_count": 20,
   "id": "9487df8b",
   "metadata": {},
   "outputs": [
    {
     "data": {
      "text/plain": [
       "{'text': 'Prep and attend weeklu call with M Barrett and LC re. Apple due dili. Send project management spre adsheet to Lee Caldwell, and liaise with APple re next board meting on 12/12/2022. listen audio recording from last last meeting w/ MB.',\n",
       " 'result': 'Prep and attend weekly calls with M Barrett and LC re. Apple due daily. Send project management spreadsheet to Lee Caldwell, and liaise with APple re next board meeting on 12/12/2022. Listen audio recording from last last meeting w/MB.',\n",
       " 'corrections': [{'start': 228,\n",
       "   'text': 'w/ MB',\n",
       "   'correct': 'w/MB',\n",
       "   'definition': 'Accept space'},\n",
       "  {'start': 182, 'text': 'listen', 'correct': 'Listen', 'definition': None},\n",
       "  {'start': 160,\n",
       "   'text': 'meting',\n",
       "   'correct': 'meeting',\n",
       "   'definition': 'a formally arranged gathering'},\n",
       "  {'start': 94,\n",
       "   'text': 'spre adsheet',\n",
       "   'correct': 'spreadsheet',\n",
       "   'definition': 'a screen-oriented interactive program enabling a user to lay out financial data on the screen'},\n",
       "  {'start': 64,\n",
       "   'text': 'dili',\n",
       "   'correct': 'daily',\n",
       "   'definition': 'every day; without missing a day'},\n",
       "  {'start': 16,\n",
       "   'text': 'weeklu call',\n",
       "   'correct': 'weekly calls',\n",
       "   'definition': None}]}"
      ]
     },
     "execution_count": 20,
     "metadata": {},
     "output_type": "execute_result"
    }
   ],
   "source": [
    "from gingerit.gingerit import GingerIt\n",
    "text = 'Prep and attend weeklu call with M Barrett and LC re. Apple due dili. Send project management spre adsheet to Lee Caldwell, and liaise with APple re next board meting on 12/12/2022. listen audio recording from last last meeting w/ MB.'\n",
    "\n",
    "parser = GingerIt()\n",
    "parser.parse(text)"
   ]
  },
  {
   "cell_type": "code",
   "execution_count": 21,
   "id": "d1bcfd82",
   "metadata": {},
   "outputs": [
    {
     "data": {
      "text/plain": [
       "{'text': 'Sorting out final amends agreed with Dave, sending Dave, convo w/ A Howell re project B, advuce given to M&S re deal prep to meet deadline on 13 Oct 2020.',\n",
       " 'result': 'Sorting out final amends agreed with Dave, sending Dave, convo w/A Howell re project B, advice given to M&S re deal prep to meet deadline on 13 Oct 2020.',\n",
       " 'corrections': [{'start': 89,\n",
       "   'text': 'advuce',\n",
       "   'correct': 'advice',\n",
       "   'definition': 'a proposal for an appropriate course of action'},\n",
       "  {'start': 63,\n",
       "   'text': 'w/ A',\n",
       "   'correct': 'w/A',\n",
       "   'definition': 'Accept space'}]}"
      ]
     },
     "execution_count": 21,
     "metadata": {},
     "output_type": "execute_result"
    }
   ],
   "source": [
    "text = \"Sorting out final amends agreed with Dave, sending Dave, convo w/ A Howell re project B, advuce given to M&S re deal prep to meet deadline on 13 Oct 2020.\" \n",
    "\n",
    "parser = GingerIt()\n",
    "parser.parse(text)\n"
   ]
  },
  {
   "cell_type": "markdown",
   "id": "fdc7ded7",
   "metadata": {},
   "source": [
    "In the first narrative, missed 'dili' and 'APple', in the second, missed the random comma, but otherwise a pretty good performance."
   ]
  },
  {
   "cell_type": "markdown",
   "id": "d24dda3f",
   "metadata": {},
   "source": [
    "For a case checker, to deal with the 'APple' error, could write a pretty simple function for it: if not the first letter in a word, case should be lower. Could add exceptions eg M&S, on the grounds that the first error (capitalising second letter from holding down shift too long) is more likely to occur than initials? Or could write a function where words are either all upper case, all lower case, or first letter upper, rest lower."
   ]
  },
  {
   "cell_type": "markdown",
   "id": "c187393e",
   "metadata": {},
   "source": [
    "7) Time management:  \n",
    "To be honest, this completely depends on the project, team, timeframe etc. But I guess the points that are generalisable are 1) focusing on thoroughly understanding the data using EDA, domain knowledge, data engineering if necessary, and 2) narrowing down what the project hopes to achieve and how those can be quantified, rather than throwing \"data science\" at a problem and hoping for a solution."
   ]
  },
  {
   "cell_type": "markdown",
   "id": "b4cbf29f",
   "metadata": {},
   "source": [
    "8) Further code development: see 6"
   ]
  },
  {
   "cell_type": "markdown",
   "id": "d0a13c41",
   "metadata": {},
   "source": [
    "9) Further ideas for development:  \n",
    "With sufficient NLP, could create a whole-company narrative and integrate with project management (Agile?) to tick off tasks as they are completed on the narrative. Eg anyone wanting to check progress on Apple case would be able to see every time they were mentioned in a narrative, by whom, and what was done.   "
   ]
  }
 ],
 "metadata": {
  "kernelspec": {
   "display_name": "Python 3",
   "language": "python",
   "name": "python3"
  },
  "language_info": {
   "codemirror_mode": {
    "name": "ipython",
    "version": 3
   },
   "file_extension": ".py",
   "mimetype": "text/x-python",
   "name": "python",
   "nbconvert_exporter": "python",
   "pygments_lexer": "ipython3",
   "version": "3.8.8"
  }
 },
 "nbformat": 4,
 "nbformat_minor": 5
}
